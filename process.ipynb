{
 "cells": [
  {
   "cell_type": "markdown",
   "metadata": {},
   "source": [
    "train"
   ]
  },
  {
   "cell_type": "code",
   "execution_count": 1,
   "metadata": {},
   "outputs": [
    {
     "name": "stdout",
     "output_type": "stream",
     "text": [
      "/mnt/bs_ssl/conda-envs/geoseg/lib/python3.9/site-packages/timm/models/_factory.py:117: UserWarning:\n",
      "\n",
      "Mapping deprecated model name swsl_resnet18 to current resnet18.fb_swsl_ig1b_ft_in1k.\n",
      "\n",
      "/mnt/bs_ssl/conda-envs/geoseg/lib/python3.9/site-packages/torch/functional.py:507: UserWarning:\n",
      "\n",
      "torch.meshgrid: in an upcoming release, it will be required to pass the indexing argument. (Triggered internally at /opt/conda/conda-bld/pytorch_1711403444995/work/aten/src/ATen/native/TensorShape.cpp:3549.)\n",
      "\n",
      "GPU available: False, used: False\n",
      "TPU available: False, using: 0 TPU cores\n",
      "IPU available: False, using: 0 IPUs\n",
      "HPU available: False, using: 0 HPUs\n",
      "Missing logger folder: lightning_logs/loveda/unetformer-r18-512crop-ms-epoch30-rep\n",
      "\n",
      "  | Name | Type           | Params\n",
      "----------------------------------------\n",
      "0 | net  | UNetFormer     | 11.7 M\n",
      "1 | loss | UnetFormerLoss | 0     \n",
      "----------------------------------------\n",
      "11.7 M    Trainable params\n",
      "0         Non-trainable params\n",
      "11.7 M    Total params\n",
      "46.900    Total estimated model params size (MB)\n",
      "Sanity Checking DataLoader 0: 100%|███████████████| 2/2 [00:21<00:00,  0.09it/s]/mnt/bs_ssl/workspace/GeoSeg/tools/metric.py:31: RuntimeWarning:\n",
      "\n",
      "invalid value encountered in divide\n",
      "\n",
      "val: {'mIoU': 0.03492077968110006, 'F1': 0.08811666388121031, 'OA': 0.12408911771670808}\n",
      "{'background': 0.00537356179578257, 'building': 0.0, 'road': 0.12589631357177092, 'water': 4.3248760382405535e-06, 'barren': 0.0, 'forest': 0.10502368225659123, 'agricultural': 0.008147575267517434}\n",
      "Epoch 0:   0%|                                          | 0/157 [00:00<?, ?it/s]^C\n",
      "/mnt/bs_ssl/conda-envs/geoseg/lib/python3.9/site-packages/pytorch_lightning/trainer/call.py:54: UserWarning:\n",
      "\n",
      "Detected KeyboardInterrupt, attempting graceful shutdown...\n",
      "\n"
     ]
    }
   ],
   "source": [
    "!HF_ENDPOINT=https://hf-mirror.com python train_supervision.py -c config/loveda/unetformer.py"
   ]
  },
  {
   "cell_type": "markdown",
   "metadata": {},
   "source": [
    "test"
   ]
  },
  {
   "cell_type": "code",
   "execution_count": null,
   "metadata": {},
   "outputs": [],
   "source": []
  }
 ],
 "metadata": {
  "kernelspec": {
   "display_name": "geoseg",
   "language": "python",
   "name": "python3"
  },
  "language_info": {
   "codemirror_mode": {
    "name": "ipython",
    "version": 3
   },
   "file_extension": ".py",
   "mimetype": "text/x-python",
   "name": "python",
   "nbconvert_exporter": "python",
   "pygments_lexer": "ipython3",
   "version": "3.9.18"
  }
 },
 "nbformat": 4,
 "nbformat_minor": 2
}
