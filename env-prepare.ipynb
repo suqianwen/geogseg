{
 "cells": [
  {
   "cell_type": "markdown",
   "metadata": {},
   "source": [
    "python <=3.9"
   ]
  },
  {
   "cell_type": "markdown",
   "metadata": {},
   "source": [
    "CPU  \n",
    "\n",
    "just for test"
   ]
  },
  {
   "cell_type": "markdown",
   "metadata": {},
   "source": [
    "!conda install -y pytorch torchvision torchaudio cpuonly -c pytorch"
   ]
  },
  {
   "cell_type": "markdown",
   "metadata": {},
   "source": [
    "GPU"
   ]
  },
  {
   "cell_type": "code",
   "execution_count": null,
   "metadata": {},
   "outputs": [],
   "source": [
    "!conda install -y pytorch torchvision torchaudio pytorch-cuda=11.8 -c pytorch -c nvidia"
   ]
  },
  {
   "cell_type": "code",
   "execution_count": 1,
   "metadata": {},
   "outputs": [
    {
     "name": "stdout",
     "output_type": "stream",
     "text": [
      "Looking in indexes: https://mirrors.bfsu.edu.cn/pypi/web/simple\n",
      "Requirement already satisfied: timm in /mnt/bs_ssl/conda-envs/geoseg/lib/python3.10/site-packages (0.9.16)\n",
      "Requirement already satisfied: lightning in /mnt/bs_ssl/conda-envs/geoseg/lib/python3.10/site-packages (2.2.1)\n",
      "Requirement already satisfied: albumentations in /mnt/bs_ssl/conda-envs/geoseg/lib/python3.10/site-packages (1.3.1)\n",
      "Requirement already satisfied: ttach in /mnt/bs_ssl/conda-envs/geoseg/lib/python3.10/site-packages (0.0.3)\n",
      "Requirement already satisfied: numpy in /mnt/bs_ssl/conda-envs/geoseg/lib/python3.10/site-packages (1.26.4)\n",
      "Requirement already satisfied: tqdm in /mnt/bs_ssl/conda-envs/geoseg/lib/python3.10/site-packages (4.66.2)\n",
      "Requirement already satisfied: scipy in /mnt/bs_ssl/conda-envs/geoseg/lib/python3.10/site-packages (1.13.0)\n",
      "Requirement already satisfied: matplotlib in /mnt/bs_ssl/conda-envs/geoseg/lib/python3.10/site-packages (3.8.4)\n",
      "Requirement already satisfied: einops in /mnt/bs_ssl/conda-envs/geoseg/lib/python3.10/site-packages (0.7.0)\n",
      "Requirement already satisfied: addict in /mnt/bs_ssl/conda-envs/geoseg/lib/python3.10/site-packages (2.4.0)\n",
      "Requirement already satisfied: opencv-python in /mnt/bs_ssl/conda-envs/geoseg/lib/python3.10/site-packages (4.7.0)\n",
      "Requirement already satisfied: catalyst==20.09 in /mnt/bs_ssl/conda-envs/geoseg/lib/python3.10/site-packages (20.9)\n",
      "Requirement already satisfied: torch>=1.1.0 in /mnt/bs_ssl/conda-envs/geoseg/lib/python3.10/site-packages (from catalyst==20.09) (2.2.2)\n",
      "Requirement already satisfied: PyYAML in /mnt/bs_ssl/conda-envs/geoseg/lib/python3.10/site-packages (from catalyst==20.09) (6.0.1)\n",
      "Requirement already satisfied: packaging in /mnt/bs_ssl/conda-envs/geoseg/lib/python3.10/site-packages (from catalyst==20.09) (24.0)\n",
      "Requirement already satisfied: deprecation in /mnt/bs_ssl/conda-envs/geoseg/lib/python3.10/site-packages (from catalyst==20.09) (2.1.0)\n",
      "Requirement already satisfied: ipython in /mnt/bs_ssl/conda-envs/geoseg/lib/python3.10/site-packages (from catalyst==20.09) (8.22.2)\n",
      "Requirement already satisfied: tensorboard>=1.14.0 in /mnt/bs_ssl/conda-envs/geoseg/lib/python3.10/site-packages (from catalyst==20.09) (2.16.2)\n",
      "Requirement already satisfied: tensorboardX in /mnt/bs_ssl/conda-envs/geoseg/lib/python3.10/site-packages (from catalyst==20.09) (2.6.2.2)\n",
      "Requirement already satisfied: plotly>=4.1.0 in /mnt/bs_ssl/conda-envs/geoseg/lib/python3.10/site-packages (from catalyst==20.09) (5.20.0)\n",
      "Requirement already satisfied: pandas>=0.22 in /mnt/bs_ssl/conda-envs/geoseg/lib/python3.10/site-packages (from catalyst==20.09) (2.2.2)\n",
      "Requirement already satisfied: scikit-learn>=0.20 in /mnt/bs_ssl/conda-envs/geoseg/lib/python3.10/site-packages (from catalyst==20.09) (1.4.1.post1)\n",
      "Requirement already satisfied: GitPython>=3.1.1 in /mnt/bs_ssl/conda-envs/geoseg/lib/python3.10/site-packages (from catalyst==20.09) (3.1.43)\n",
      "Requirement already satisfied: torchvision in /mnt/bs_ssl/conda-envs/geoseg/lib/python3.10/site-packages (from timm) (0.17.2)\n",
      "Requirement already satisfied: huggingface_hub in /mnt/bs_ssl/conda-envs/geoseg/lib/python3.10/site-packages (from timm) (0.22.2)\n",
      "Requirement already satisfied: safetensors in /mnt/bs_ssl/conda-envs/geoseg/lib/python3.10/site-packages (from timm) (0.4.2)\n",
      "Requirement already satisfied: fsspec<2025.0,>=2022.5.0 in /mnt/bs_ssl/conda-envs/geoseg/lib/python3.10/site-packages (from fsspec[http]<2025.0,>=2022.5.0->lightning) (2024.3.1)\n",
      "Requirement already satisfied: lightning-utilities<2.0,>=0.8.0 in /mnt/bs_ssl/conda-envs/geoseg/lib/python3.10/site-packages (from lightning) (0.11.2)\n",
      "Requirement already satisfied: torchmetrics<3.0,>=0.7.0 in /mnt/bs_ssl/conda-envs/geoseg/lib/python3.10/site-packages (from lightning) (1.3.2)\n",
      "Requirement already satisfied: typing-extensions<6.0,>=4.4.0 in /mnt/bs_ssl/conda-envs/geoseg/lib/python3.10/site-packages (from lightning) (4.11.0)\n",
      "Requirement already satisfied: pytorch-lightning in /mnt/bs_ssl/conda-envs/geoseg/lib/python3.10/site-packages (from lightning) (2.2.1)\n",
      "Requirement already satisfied: scikit-image>=0.16.1 in /mnt/bs_ssl/conda-envs/geoseg/lib/python3.10/site-packages (from albumentations) (0.20.0)\n",
      "Requirement already satisfied: qudida>=0.0.4 in /mnt/bs_ssl/conda-envs/geoseg/lib/python3.10/site-packages (from albumentations) (0.0.4)\n",
      "Collecting opencv-python-headless>=4.1.1 (from albumentations)\n",
      "  Downloading https://mirrors.bfsu.edu.cn/pypi/web/packages/71/19/3c65483a80a1d062d46ae20faf5404712d25cb1dfdcaf371efbd67c38544/opencv_python_headless-4.9.0.80-cp37-abi3-manylinux_2_17_x86_64.manylinux2014_x86_64.whl (49.6 MB)\n",
      "\u001b[2K     \u001b[90m━━━━━━━━━━━━━━━━━━━━━━━━━━━━━━━━━━━━━━━━\u001b[0m \u001b[32m49.6/49.6 MB\u001b[0m \u001b[31m11.2 MB/s\u001b[0m eta \u001b[36m0:00:00\u001b[0m00:01\u001b[0m00:01\u001b[0m\n",
      "\u001b[?25hRequirement already satisfied: contourpy>=1.0.1 in /mnt/bs_ssl/conda-envs/geoseg/lib/python3.10/site-packages (from matplotlib) (1.2.1)\n",
      "Requirement already satisfied: cycler>=0.10 in /mnt/bs_ssl/conda-envs/geoseg/lib/python3.10/site-packages (from matplotlib) (0.12.1)\n",
      "Requirement already satisfied: fonttools>=4.22.0 in /mnt/bs_ssl/conda-envs/geoseg/lib/python3.10/site-packages (from matplotlib) (4.51.0)\n",
      "Requirement already satisfied: kiwisolver>=1.3.1 in /mnt/bs_ssl/conda-envs/geoseg/lib/python3.10/site-packages (from matplotlib) (1.4.5)\n",
      "Requirement already satisfied: pillow>=8 in /mnt/bs_ssl/conda-envs/geoseg/lib/python3.10/site-packages (from matplotlib) (9.4.0)\n",
      "Requirement already satisfied: pyparsing>=2.3.1 in /mnt/bs_ssl/conda-envs/geoseg/lib/python3.10/site-packages (from matplotlib) (3.1.2)\n",
      "Requirement already satisfied: python-dateutil>=2.7 in /mnt/bs_ssl/conda-envs/geoseg/lib/python3.10/site-packages (from matplotlib) (2.9.0)\n",
      "Collecting aiohttp!=4.0.0a0,!=4.0.0a1 (from fsspec[http]<2025.0,>=2022.5.0->lightning)\n",
      "  Downloading https://mirrors.bfsu.edu.cn/pypi/web/packages/93/40/d3decda219ebd5410eba627601d537ec3782efbcadba308e9ce381cc0b71/aiohttp-3.9.3-cp310-cp310-manylinux_2_17_x86_64.manylinux2014_x86_64.whl (1.2 MB)\n",
      "\u001b[2K     \u001b[90m━━━━━━━━━━━━━━━━━━━━━━━━━━━━━━━━━━━━━━━━\u001b[0m \u001b[32m1.2/1.2 MB\u001b[0m \u001b[31m21.1 MB/s\u001b[0m eta \u001b[36m0:00:00\u001b[0ma \u001b[36m0:00:01\u001b[0m\n",
      "\u001b[?25hRequirement already satisfied: gitdb<5,>=4.0.1 in /mnt/bs_ssl/conda-envs/geoseg/lib/python3.10/site-packages (from GitPython>=3.1.1->catalyst==20.09) (4.0.11)\n",
      "Requirement already satisfied: setuptools in /mnt/bs_ssl/conda-envs/geoseg/lib/python3.10/site-packages (from lightning-utilities<2.0,>=0.8.0->lightning) (69.2.0)\n",
      "Requirement already satisfied: pytz>=2020.1 in /mnt/bs_ssl/conda-envs/geoseg/lib/python3.10/site-packages (from pandas>=0.22->catalyst==20.09) (2024.1)\n",
      "Requirement already satisfied: tzdata>=2022.7 in /mnt/bs_ssl/conda-envs/geoseg/lib/python3.10/site-packages (from pandas>=0.22->catalyst==20.09) (2024.1)\n",
      "Requirement already satisfied: tenacity>=6.2.0 in /mnt/bs_ssl/conda-envs/geoseg/lib/python3.10/site-packages (from plotly>=4.1.0->catalyst==20.09) (8.2.3)\n",
      "Requirement already satisfied: six>=1.5 in /mnt/bs_ssl/conda-envs/geoseg/lib/python3.10/site-packages (from python-dateutil>=2.7->matplotlib) (1.16.0)\n",
      "Requirement already satisfied: networkx>=2.8 in /mnt/bs_ssl/conda-envs/geoseg/lib/python3.10/site-packages (from scikit-image>=0.16.1->albumentations) (3.3)\n",
      "Requirement already satisfied: imageio>=2.4.1 in /mnt/bs_ssl/conda-envs/geoseg/lib/python3.10/site-packages (from scikit-image>=0.16.1->albumentations) (2.34.0)\n",
      "Requirement already satisfied: tifffile>=2019.7.26 in /mnt/bs_ssl/conda-envs/geoseg/lib/python3.10/site-packages (from scikit-image>=0.16.1->albumentations) (2020.6.3)\n",
      "Requirement already satisfied: PyWavelets>=1.1.1 in /mnt/bs_ssl/conda-envs/geoseg/lib/python3.10/site-packages (from scikit-image>=0.16.1->albumentations) (1.4.1)\n",
      "Requirement already satisfied: lazy_loader>=0.1 in /mnt/bs_ssl/conda-envs/geoseg/lib/python3.10/site-packages (from scikit-image>=0.16.1->albumentations) (0.4)\n",
      "Requirement already satisfied: joblib>=1.2.0 in /mnt/bs_ssl/conda-envs/geoseg/lib/python3.10/site-packages (from scikit-learn>=0.20->catalyst==20.09) (1.4.0)\n",
      "Requirement already satisfied: threadpoolctl>=2.0.0 in /mnt/bs_ssl/conda-envs/geoseg/lib/python3.10/site-packages (from scikit-learn>=0.20->catalyst==20.09) (3.4.0)\n",
      "Requirement already satisfied: absl-py>=0.4 in /mnt/bs_ssl/conda-envs/geoseg/lib/python3.10/site-packages (from tensorboard>=1.14.0->catalyst==20.09) (2.1.0)\n",
      "Requirement already satisfied: grpcio>=1.48.2 in /mnt/bs_ssl/conda-envs/geoseg/lib/python3.10/site-packages (from tensorboard>=1.14.0->catalyst==20.09) (1.62.1)\n",
      "Requirement already satisfied: markdown>=2.6.8 in /mnt/bs_ssl/conda-envs/geoseg/lib/python3.10/site-packages (from tensorboard>=1.14.0->catalyst==20.09) (3.6)\n",
      "Requirement already satisfied: protobuf!=4.24.0,>=3.19.6 in /mnt/bs_ssl/conda-envs/geoseg/lib/python3.10/site-packages (from tensorboard>=1.14.0->catalyst==20.09) (5.26.1)\n",
      "Requirement already satisfied: tensorboard-data-server<0.8.0,>=0.7.0 in /mnt/bs_ssl/conda-envs/geoseg/lib/python3.10/site-packages (from tensorboard>=1.14.0->catalyst==20.09) (0.7.2)\n",
      "Requirement already satisfied: werkzeug>=1.0.1 in /mnt/bs_ssl/conda-envs/geoseg/lib/python3.10/site-packages (from tensorboard>=1.14.0->catalyst==20.09) (3.0.2)\n",
      "Requirement already satisfied: filelock in /mnt/bs_ssl/conda-envs/geoseg/lib/python3.10/site-packages (from torch>=1.1.0->catalyst==20.09) (3.13.4)\n",
      "Requirement already satisfied: sympy in /mnt/bs_ssl/conda-envs/geoseg/lib/python3.10/site-packages (from torch>=1.1.0->catalyst==20.09) (1.12)\n",
      "Requirement already satisfied: jinja2 in /mnt/bs_ssl/conda-envs/geoseg/lib/python3.10/site-packages (from torch>=1.1.0->catalyst==20.09) (3.1.3)\n",
      "Requirement already satisfied: requests in /mnt/bs_ssl/conda-envs/geoseg/lib/python3.10/site-packages (from huggingface_hub->timm) (2.31.0)\n",
      "Requirement already satisfied: decorator in /mnt/bs_ssl/conda-envs/geoseg/lib/python3.10/site-packages (from ipython->catalyst==20.09) (5.1.1)\n",
      "Requirement already satisfied: jedi>=0.16 in /mnt/bs_ssl/conda-envs/geoseg/lib/python3.10/site-packages (from ipython->catalyst==20.09) (0.19.1)\n",
      "Requirement already satisfied: matplotlib-inline in /mnt/bs_ssl/conda-envs/geoseg/lib/python3.10/site-packages (from ipython->catalyst==20.09) (0.1.6)\n",
      "Requirement already satisfied: prompt-toolkit<3.1.0,>=3.0.41 in /mnt/bs_ssl/conda-envs/geoseg/lib/python3.10/site-packages (from ipython->catalyst==20.09) (3.0.42)\n",
      "Requirement already satisfied: pygments>=2.4.0 in /mnt/bs_ssl/conda-envs/geoseg/lib/python3.10/site-packages (from ipython->catalyst==20.09) (2.17.2)\n",
      "Requirement already satisfied: stack-data in /mnt/bs_ssl/conda-envs/geoseg/lib/python3.10/site-packages (from ipython->catalyst==20.09) (0.6.2)\n",
      "Requirement already satisfied: traitlets>=5.13.0 in /mnt/bs_ssl/conda-envs/geoseg/lib/python3.10/site-packages (from ipython->catalyst==20.09) (5.14.2)\n",
      "Requirement already satisfied: exceptiongroup in /mnt/bs_ssl/conda-envs/geoseg/lib/python3.10/site-packages (from ipython->catalyst==20.09) (1.2.0)\n",
      "Requirement already satisfied: pexpect>4.3 in /mnt/bs_ssl/conda-envs/geoseg/lib/python3.10/site-packages (from ipython->catalyst==20.09) (4.9.0)\n",
      "Collecting aiosignal>=1.1.2 (from aiohttp!=4.0.0a0,!=4.0.0a1->fsspec[http]<2025.0,>=2022.5.0->lightning)\n",
      "  Downloading https://mirrors.bfsu.edu.cn/pypi/web/packages/76/ac/a7305707cb852b7e16ff80eaf5692309bde30e2b1100a1fcacdc8f731d97/aiosignal-1.3.1-py3-none-any.whl (7.6 kB)\n",
      "Collecting attrs>=17.3.0 (from aiohttp!=4.0.0a0,!=4.0.0a1->fsspec[http]<2025.0,>=2022.5.0->lightning)\n",
      "  Downloading https://mirrors.bfsu.edu.cn/pypi/web/packages/e0/44/827b2a91a5816512fcaf3cc4ebc465ccd5d598c45cefa6703fcf4a79018f/attrs-23.2.0-py3-none-any.whl (60 kB)\n",
      "\u001b[2K     \u001b[90m━━━━━━━━━━━━━━━━━━━━━━━━━━━━━━━━━━━━━━━━\u001b[0m \u001b[32m60.8/60.8 kB\u001b[0m \u001b[31m21.9 MB/s\u001b[0m eta \u001b[36m0:00:00\u001b[0m\n",
      "\u001b[?25hCollecting frozenlist>=1.1.1 (from aiohttp!=4.0.0a0,!=4.0.0a1->fsspec[http]<2025.0,>=2022.5.0->lightning)\n",
      "  Downloading https://mirrors.bfsu.edu.cn/pypi/web/packages/ec/25/0c87df2e53c0c5d90f7517ca0ff7aca78d050a8ec4d32c4278e8c0e52e51/frozenlist-1.4.1-cp310-cp310-manylinux_2_5_x86_64.manylinux1_x86_64.manylinux_2_17_x86_64.manylinux2014_x86_64.whl (239 kB)\n",
      "\u001b[2K     \u001b[90m━━━━━━━━━━━━━━━━━━━━━━━━━━━━━━━━━━━━━━\u001b[0m \u001b[32m239.5/239.5 kB\u001b[0m \u001b[31m26.9 MB/s\u001b[0m eta \u001b[36m0:00:00\u001b[0m\n",
      "\u001b[?25hCollecting multidict<7.0,>=4.5 (from aiohttp!=4.0.0a0,!=4.0.0a1->fsspec[http]<2025.0,>=2022.5.0->lightning)\n",
      "  Downloading https://mirrors.bfsu.edu.cn/pypi/web/packages/33/62/2c9085e571318d51212a6914566fe41dd0e33d7f268f7e2f23dcd3f06c56/multidict-6.0.5-cp310-cp310-manylinux_2_17_x86_64.manylinux2014_x86_64.whl (124 kB)\n",
      "\u001b[2K     \u001b[90m━━━━━━━━━━━━━━━━━━━━━━━━━━━━━━━━━━━━━━━\u001b[0m \u001b[32m124.3/124.3 kB\u001b[0m \u001b[31m8.4 MB/s\u001b[0m eta \u001b[36m0:00:00\u001b[0m\n",
      "\u001b[?25hCollecting yarl<2.0,>=1.0 (from aiohttp!=4.0.0a0,!=4.0.0a1->fsspec[http]<2025.0,>=2022.5.0->lightning)\n",
      "  Downloading https://mirrors.bfsu.edu.cn/pypi/web/packages/c3/a0/0ade1409d184cbc9e85acd403a386a7c0563b92ff0f26d138ff9e86e48b4/yarl-1.9.4-cp310-cp310-manylinux_2_17_x86_64.manylinux2014_x86_64.whl (301 kB)\n",
      "\u001b[2K     \u001b[90m━━━━━━━━━━━━━━━━━━━━━━━━━━━━━━━━━━━━━━\u001b[0m \u001b[32m301.6/301.6 kB\u001b[0m \u001b[31m12.4 MB/s\u001b[0m eta \u001b[36m0:00:00\u001b[0m\n",
      "\u001b[?25hCollecting async-timeout<5.0,>=4.0 (from aiohttp!=4.0.0a0,!=4.0.0a1->fsspec[http]<2025.0,>=2022.5.0->lightning)\n",
      "  Downloading https://mirrors.bfsu.edu.cn/pypi/web/packages/a7/fa/e01228c2938de91d47b307831c62ab9e4001e747789d0b05baf779a6488c/async_timeout-4.0.3-py3-none-any.whl (5.7 kB)\n",
      "Requirement already satisfied: smmap<6,>=3.0.1 in /mnt/bs_ssl/conda-envs/geoseg/lib/python3.10/site-packages (from gitdb<5,>=4.0.1->GitPython>=3.1.1->catalyst==20.09) (5.0.1)\n",
      "Requirement already satisfied: parso<0.9.0,>=0.8.3 in /mnt/bs_ssl/conda-envs/geoseg/lib/python3.10/site-packages (from jedi>=0.16->ipython->catalyst==20.09) (0.8.4)\n",
      "Requirement already satisfied: ptyprocess>=0.5 in /mnt/bs_ssl/conda-envs/geoseg/lib/python3.10/site-packages (from pexpect>4.3->ipython->catalyst==20.09) (0.7.0)\n",
      "Requirement already satisfied: wcwidth in /mnt/bs_ssl/conda-envs/geoseg/lib/python3.10/site-packages (from prompt-toolkit<3.1.0,>=3.0.41->ipython->catalyst==20.09) (0.2.13)\n",
      "Requirement already satisfied: MarkupSafe>=2.1.1 in /mnt/bs_ssl/conda-envs/geoseg/lib/python3.10/site-packages (from werkzeug>=1.0.1->tensorboard>=1.14.0->catalyst==20.09) (2.1.5)\n",
      "Requirement already satisfied: charset-normalizer<4,>=2 in /mnt/bs_ssl/conda-envs/geoseg/lib/python3.10/site-packages (from requests->huggingface_hub->timm) (3.3.2)\n",
      "Requirement already satisfied: idna<4,>=2.5 in /mnt/bs_ssl/conda-envs/geoseg/lib/python3.10/site-packages (from requests->huggingface_hub->timm) (3.6)\n",
      "Requirement already satisfied: urllib3<3,>=1.21.1 in /mnt/bs_ssl/conda-envs/geoseg/lib/python3.10/site-packages (from requests->huggingface_hub->timm) (2.2.1)\n",
      "Requirement already satisfied: certifi>=2017.4.17 in /mnt/bs_ssl/conda-envs/geoseg/lib/python3.10/site-packages (from requests->huggingface_hub->timm) (2024.2.2)\n",
      "Requirement already satisfied: executing>=1.2.0 in /mnt/bs_ssl/conda-envs/geoseg/lib/python3.10/site-packages (from stack-data->ipython->catalyst==20.09) (2.0.1)\n",
      "Requirement already satisfied: asttokens>=2.1.0 in /mnt/bs_ssl/conda-envs/geoseg/lib/python3.10/site-packages (from stack-data->ipython->catalyst==20.09) (2.4.1)\n",
      "Requirement already satisfied: pure-eval in /mnt/bs_ssl/conda-envs/geoseg/lib/python3.10/site-packages (from stack-data->ipython->catalyst==20.09) (0.2.2)\n",
      "Requirement already satisfied: mpmath>=0.19 in /mnt/bs_ssl/conda-envs/geoseg/lib/python3.10/site-packages (from sympy->torch>=1.1.0->catalyst==20.09) (1.3.0)\n",
      "Installing collected packages: opencv-python-headless, multidict, frozenlist, attrs, async-timeout, yarl, aiosignal, aiohttp\n",
      "Successfully installed aiohttp-3.9.3 aiosignal-1.3.1 async-timeout-4.0.3 attrs-23.2.0 frozenlist-1.4.1 multidict-6.0.5 opencv-python-headless-4.9.0.80 yarl-1.9.4\n"
     ]
    }
   ],
   "source": [
    "!pip install timm lightning albumentations ttach numpy tqdm scipy matplotlib einops addict opencv-python catalyst==20.09"
   ]
  },
  {
   "cell_type": "code",
   "execution_count": null,
   "metadata": {},
   "outputs": [],
   "source": []
  }
 ],
 "metadata": {
  "kernelspec": {
   "display_name": "yjf",
   "language": "python",
   "name": "python3"
  },
  "language_info": {
   "codemirror_mode": {
    "name": "ipython",
    "version": 3
   },
   "file_extension": ".py",
   "mimetype": "text/x-python",
   "name": "python",
   "nbconvert_exporter": "python",
   "pygments_lexer": "ipython3",
   "version": "3.10.13"
  }
 },
 "nbformat": 4,
 "nbformat_minor": 2
}
